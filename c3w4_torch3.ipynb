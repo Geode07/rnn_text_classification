{
 "cells": [
  {
   "cell_type": "code",
   "execution_count": 3,
   "metadata": {},
   "outputs": [],
   "source": [
    "import pandas as pd\n",
    "import numpy as np\n",
    "import tqdm\n",
    "\n",
    "import matplotlib.pyplot as plt\n",
    "from sklearn.model_selection import train_test_split\n",
    "import spacy\n",
    "from torch.utils.data import TensorDataset, DataLoader\n",
    "from sklearn.utils import resample\n",
    "from torch.nn.utils.rnn import pad_sequence\n",
    "\n",
    "import torch\n",
    "from sklearn.metrics import f1_score\n",
    "import pandas as pd \n",
    "import re\n",
    "import random\n",
    "\n",
    "import torch.nn as nn\n",
    "import torch.nn.functional as F\n",
    "import torch.nn as nn\n",
    "from sklearn.preprocessing import StandardScaler\n",
    "import torch.optim as optim"
   ]
  },
  {
   "cell_type": "markdown",
   "metadata": {},
   "source": [
    "# Problem"
   ]
  },
  {
   "cell_type": "markdown",
   "metadata": {},
   "source": [
    "The aim of this notebook is to develop an LSTM model that accurately predicts which Tweets are about real disasters and which ones are not. Given a wide range of alternative approaches, logistic regression and SVC will be tried as well for benchmarking the LSTM approach."
   ]
  },
  {
   "cell_type": "markdown",
   "metadata": {},
   "source": [
    "# EDA"
   ]
  },
  {
   "cell_type": "code",
   "execution_count": 74,
   "metadata": {},
   "outputs": [],
   "source": [
    "raw_train_df = pd.read_csv(\"train.csv\")\n",
    "raw_test_df = pd.read_csv(\"test.csv\")"
   ]
  },
  {
   "cell_type": "code",
   "execution_count": 75,
   "metadata": {},
   "outputs": [
    {
     "data": {
      "text/html": [
       "<div>\n",
       "<style scoped>\n",
       "    .dataframe tbody tr th:only-of-type {\n",
       "        vertical-align: middle;\n",
       "    }\n",
       "\n",
       "    .dataframe tbody tr th {\n",
       "        vertical-align: top;\n",
       "    }\n",
       "\n",
       "    .dataframe thead th {\n",
       "        text-align: right;\n",
       "    }\n",
       "</style>\n",
       "<table border=\"1\" class=\"dataframe\">\n",
       "  <thead>\n",
       "    <tr style=\"text-align: right;\">\n",
       "      <th></th>\n",
       "      <th>id</th>\n",
       "      <th>keyword</th>\n",
       "      <th>location</th>\n",
       "      <th>text</th>\n",
       "      <th>target</th>\n",
       "    </tr>\n",
       "  </thead>\n",
       "  <tbody>\n",
       "    <tr>\n",
       "      <th>0</th>\n",
       "      <td>1</td>\n",
       "      <td>NaN</td>\n",
       "      <td>NaN</td>\n",
       "      <td>Our Deeds are the Reason of this #earthquake M...</td>\n",
       "      <td>1</td>\n",
       "    </tr>\n",
       "    <tr>\n",
       "      <th>1</th>\n",
       "      <td>4</td>\n",
       "      <td>NaN</td>\n",
       "      <td>NaN</td>\n",
       "      <td>Forest fire near La Ronge Sask. Canada</td>\n",
       "      <td>1</td>\n",
       "    </tr>\n",
       "    <tr>\n",
       "      <th>2</th>\n",
       "      <td>5</td>\n",
       "      <td>NaN</td>\n",
       "      <td>NaN</td>\n",
       "      <td>All residents asked to 'shelter in place' are ...</td>\n",
       "      <td>1</td>\n",
       "    </tr>\n",
       "    <tr>\n",
       "      <th>3</th>\n",
       "      <td>6</td>\n",
       "      <td>NaN</td>\n",
       "      <td>NaN</td>\n",
       "      <td>13,000 people receive #wildfires evacuation or...</td>\n",
       "      <td>1</td>\n",
       "    </tr>\n",
       "    <tr>\n",
       "      <th>4</th>\n",
       "      <td>7</td>\n",
       "      <td>NaN</td>\n",
       "      <td>NaN</td>\n",
       "      <td>Just got sent this photo from Ruby #Alaska as ...</td>\n",
       "      <td>1</td>\n",
       "    </tr>\n",
       "  </tbody>\n",
       "</table>\n",
       "</div>"
      ],
      "text/plain": [
       "   id keyword location                                               text  \\\n",
       "0   1     NaN      NaN  Our Deeds are the Reason of this #earthquake M...   \n",
       "1   4     NaN      NaN             Forest fire near La Ronge Sask. Canada   \n",
       "2   5     NaN      NaN  All residents asked to 'shelter in place' are ...   \n",
       "3   6     NaN      NaN  13,000 people receive #wildfires evacuation or...   \n",
       "4   7     NaN      NaN  Just got sent this photo from Ruby #Alaska as ...   \n",
       "\n",
       "   target  \n",
       "0       1  \n",
       "1       1  \n",
       "2       1  \n",
       "3       1  \n",
       "4       1  "
      ]
     },
     "execution_count": 75,
     "metadata": {},
     "output_type": "execute_result"
    }
   ],
   "source": [
    "raw_train_df.head()"
   ]
  },
  {
   "cell_type": "code",
   "execution_count": 76,
   "metadata": {},
   "outputs": [
    {
     "data": {
      "text/plain": [
       "(7613, 5)"
      ]
     },
     "execution_count": 76,
     "metadata": {},
     "output_type": "execute_result"
    }
   ],
   "source": [
    "raw_train_df.shape"
   ]
  },
  {
   "cell_type": "code",
   "execution_count": 77,
   "metadata": {},
   "outputs": [
    {
     "data": {
      "text/plain": [
       "0"
      ]
     },
     "execution_count": 77,
     "metadata": {},
     "output_type": "execute_result"
    }
   ],
   "source": [
    "raw_train_df.duplicated().sum()"
   ]
  },
  {
   "cell_type": "code",
   "execution_count": 78,
   "metadata": {},
   "outputs": [
    {
     "data": {
      "text/plain": [
       "id          7613\n",
       "keyword      221\n",
       "location    3341\n",
       "text        7503\n",
       "target         2\n",
       "dtype: int64"
      ]
     },
     "execution_count": 78,
     "metadata": {},
     "output_type": "execute_result"
    }
   ],
   "source": [
    "raw_train_df.nunique()"
   ]
  },
  {
   "cell_type": "code",
   "execution_count": 79,
   "metadata": {},
   "outputs": [
    {
     "data": {
      "text/plain": [
       "id             0\n",
       "keyword       61\n",
       "location    2533\n",
       "text           0\n",
       "target         0\n",
       "dtype: int64"
      ]
     },
     "execution_count": 79,
     "metadata": {},
     "output_type": "execute_result"
    }
   ],
   "source": [
    "raw_train_df.isna().sum()"
   ]
  },
  {
   "cell_type": "code",
   "execution_count": 80,
   "metadata": {},
   "outputs": [],
   "source": [
    "del raw_train_df['keyword']\n",
    "del raw_train_df['location']\n",
    "del raw_train_df['id']"
   ]
  },
  {
   "cell_type": "markdown",
   "metadata": {},
   "source": [
    "The columns 'id', 'location','keyword' were removed due to data sparcity."
   ]
  },
  {
   "cell_type": "code",
   "execution_count": 72,
   "metadata": {},
   "outputs": [],
   "source": [
    "# Data preprocessing for deep learning\n",
    "def text_cleaner(text):\n",
    "    text = text.lower() # convert to lowercase\n",
    "    text = re.sub(r'[^a-zA-Z0-9\\s]', '', text) # remove punctuation and special characters\n",
    "    text = re.sub(r'\\s+', ' ', text) # remove extra whitespace\n",
    "    text = re.sub(r'https?://\\S+', '', text) # remove URLs\n",
    "    text = re.sub(r\"#\", \"\", text)\n",
    "    return text\n",
    "\n",
    "train_data = raw_train_df.where((pd.notnull(raw_train_df)),'')\n",
    "test_data = raw_test_df.where((pd.notnull(raw_test_df)),'')\n",
    "\n",
    "train_data['text'] = train_data['text'].apply(text_cleaner)\n",
    "test_data['text'] = test_data['text'].apply(text_cleaner)\n",
    "\n",
    "df_majority = train_data[train_data['target'] == 0]\n",
    "df_minority = train_data[train_data['target'] == 1]\n",
    "\n",
    "df_minority_upsampled = df_minority.sample(replace=True, n=len(df_majority), random_state=123)  # Upsample minority class\n",
    "df_upsampled = pd.concat([df_majority, df_minority_upsampled])  # Combine majority class and upsampled minority class\n",
    "\n",
    "train_data = df_upsampled.sample(frac=1).reset_index(drop=True)  # Shuffle rows\n",
    "\n",
    "X, Y = train_data['text'], train_data['target']\n",
    "X_test= test_data['text']"
   ]
  },
  {
   "cell_type": "code",
   "execution_count": 90,
   "metadata": {},
   "outputs": [
    {
     "name": "stderr",
     "output_type": "stream",
     "text": [
      "100%|██████████| 8684/8684 [01:11<00:00, 122.01it/s]\n"
     ]
    },
    {
     "name": "stdout",
     "output_type": "stream",
     "text": [
      "torch.Size([8684, 32, 300])\n"
     ]
    },
    {
     "name": "stderr",
     "output_type": "stream",
     "text": [
      "100%|██████████| 3263/3263 [00:22<00:00, 142.59it/s]\n"
     ]
    },
    {
     "name": "stdout",
     "output_type": "stream",
     "text": [
      "torch.Size([3263, 33, 300])\n",
      "torch.Size([6947, 32, 300]) torch.Size([1737, 32, 300]) torch.Size([3263, 33, 300])\n",
      "torch.Size([8684, 32, 300])\n",
      "(8684,)\n"
     ]
    }
   ],
   "source": [
    "# Embed Data for Deep Learning\n",
    "def embed(docs):\n",
    "    nlp = spacy.load('en_core_web_lg')\n",
    "    docs_tensor = []\n",
    "    pbar = tqdm.trange(docs.shape[0])\n",
    "    for t in pbar:\n",
    "        doc = nlp(docs[t])\n",
    "        sentence_embeddings = [token.vector for token in doc]\n",
    "        docs_tensor.append(sentence_embeddings)\n",
    "\n",
    "    docs_tensor = [torch.tensor(np.array(d)) for d in docs_tensor]\n",
    "    docs_tensor = pad_sequence(docs_tensor, batch_first=True)\n",
    "\n",
    "    print(docs_tensor.shape)\n",
    "    return docs_tensor\n",
    "\n",
    "X_tensor = embed(X)\n",
    "X_test_tensor = embed(X_test)\n",
    "X_train, X_val, Y_train, Y_val = train_test_split(X_tensor, Y, test_size=0.2, random_state= 3)\n",
    "\n",
    "Y_train = torch.from_numpy(Y_train.values)\n",
    "Y_val = torch.from_numpy(Y_val.values)\n",
    "train_dataset = TensorDataset(X_train, Y_train)\n",
    "\n",
    "# Create dataLoader\n",
    "batch_size = 50\n",
    "train_dataloader = DataLoader(train_dataset, batch_size=batch_size, shuffle=True)\n",
    "\n",
    "val_dataset = TensorDataset(X_val, Y_val)\n",
    "val_dataloader = DataLoader(val_dataset, batch_size=batch_size, shuffle=True)\n",
    "\n",
    "test_dataset = TensorDataset(X_test_tensor)\n",
    "test_dataloader = DataLoader(test_dataset, batch_size=batch_size, shuffle=True)\n",
    "\n",
    "print(X_train.shape, X_val.shape, X_test_tensor.shape)\n",
    "print(X_tensor.shape)\n",
    "print(Y.shape)"
   ]
  },
  {
   "cell_type": "markdown",
   "metadata": {},
   "source": [
    "This code splits a dataset into training and validation sets then converts the target variable arrays from the training and validation splits into PyTorch tensors. It then wraps these tensors with their corresponding features into TensorDataset objects for training, validation, and testing. Lastly, it creates DataLoader instances for the training, validation, and test datasets, with a batch size of 50 and shuffling enabled, and prints the shapes of the training, validation, and test feature sets."
   ]
  },
  {
   "cell_type": "markdown",
   "metadata": {},
   "source": [
    "# Create Benchmark Models"
   ]
  },
  {
   "cell_type": "code",
   "execution_count": 54,
   "metadata": {},
   "outputs": [],
   "source": [
    "import re\n",
    "import string\n",
    "import nltk\n",
    "from nltk.corpus import stopwords\n",
    "from nltk.tokenize import word_tokenize\n",
    "from nltk.stem import WordNetLemmatizer\n",
    "from nltk.stem import PorterStemmer\n",
    "\n",
    "from sklearn.feature_extraction.text import TfidfVectorizer\n",
    "from sklearn.model_selection import train_test_split\n",
    "from sklearn.linear_model import LogisticRegression\n",
    "from sklearn.ensemble import RandomForestClassifier\n",
    "from sklearn.naive_bayes import MultinomialNB\n",
    "from sklearn.svm  import SVC\n",
    "from sklearn.metrics import accuracy_score, classification_report,confusion_matrix\n",
    "from sklearn.model_selection import GridSearchCV"
   ]
  },
  {
   "cell_type": "code",
   "execution_count": 48,
   "metadata": {},
   "outputs": [],
   "source": [
    "# Text Preprocessing for benchmarking\n",
    "stop_words=set(stopwords.words('english'))\n",
    "stemming=PorterStemmer()\n",
    "\n",
    "def clean_text(text):\n",
    "    text = text.lower() # 1. Convert to lower\n",
    "    text = re.sub(r'[^a-zA-Z\\s]', '', text)  # 2. Remove special characters\n",
    "    tokens = word_tokenize(text) # 3. Split to words\n",
    "    tokens = [word for word in tokens if word not in stop_words] # 4. Remove stopwords\n",
    "    tokens = [word for word in tokens if not word.isdigit()] # 5. Remove numbers\n",
    "    tokens = [stemming.stem(word) for word in tokens] # 7. Apply Stemming\n",
    "    return ' '.join(tokens) # To return these single words back into one string\n",
    "\n",
    "train_df1_b = train_df1.copy()\n",
    "train_df1_b['cleaned_text'] = train_df1_b['text'].apply(clean_text)\n",
    "\n",
    "tf_idf=TfidfVectorizer()\n",
    "x_b = tf_idf.fit_transform(train_df1_b['cleaned_text'])\n",
    "y_b = train_df1_b['target']\n",
    "\n",
    "X_train_b,X_test_b,y_train_b,y_test_b = train_test_split(x_b,y_b,test_size=0.2,random_state=0)"
   ]
  },
  {
   "cell_type": "code",
   "execution_count": null,
   "metadata": {},
   "outputs": [
    {
     "name": "stdout",
     "output_type": "stream",
     "text": [
      "Accuracy: 0.7834\n",
      "Classification Report of SVC:\n",
      "               precision    recall  f1-score   support\n",
      "\n",
      "           0       0.74      0.93      0.83       841\n",
      "           1       0.88      0.59      0.71       664\n",
      "\n",
      "    accuracy                           0.78      1505\n",
      "   macro avg       0.81      0.76      0.77      1505\n",
      "weighted avg       0.80      0.78      0.77      1505\n",
      "\n",
      "Training accuracy: 0.9720744680851063\n",
      "Test accuracy: 0.7833887043189369\n",
      "Training Accuracy of SVC : 98.02\n",
      "Testing Accuracy  of  SVC: 79.14\n"
     ]
    }
   ],
   "source": [
    "# SVC benchmark model\n",
    "svc = SVC()\n",
    "svc.fit(X_train_b,y_train_b)\n",
    "svc_y_pred_b = svc.predict(X_test_b)\n",
    "accuracy = accuracy_score(y_test_b, svc_y_pred_b)\n",
    "print(f'Accuracy: {accuracy:.4f}')\n",
    "print(\"Classification Report of SVC:\\n\", classification_report(y_test_b, svc_y_pred_b))\n",
    "\n",
    "print('Training Accuracy Base SVC :', svc.score(X_train_b,y_train_b))\n",
    "print('Test Accuracy Base SVC :', svc.score(X_test_b,y_test_b))\n",
    "\n",
    "# SVC Hyperparameter tuning\n",
    "svc = SVC()\n",
    "param_grid={\n",
    "    'C':[0.001,0.01,0.1,1,10,],\n",
    "    'class_weight': [None, 'balanced']\n",
    "           }\n",
    "grid_search_svc = GridSearchCV(svc, param_grid,cv=5,scoring='accuracy')\n",
    "grid_search_svc.fit(X_train_b, y_train_b)\n",
    "best_model_svc = grid_search_svc.best_estimator_\n",
    "\n",
    "y_train_pred_svc=best_model_svc.predict(X_train_b)\n",
    "trainning_accuracy_svc=accuracy_score(y_train_b, y_train_pred_svc)\n",
    "\n",
    "y_test_pred_svc=best_model_svc.predict(X_test_b)\n",
    "testing_accuracy_svc=accuracy_score(y_test_b, y_test_pred_svc)\n",
    "\n",
    "print(f\"Training Accuracy Tuned SVC : {trainning_accuracy_svc * 100:.2f}\")\n",
    "print(f\"Testing Accuracy Tuned SVC : {testing_accuracy_svc * 100:.2f}\")"
   ]
  },
  {
   "cell_type": "code",
   "execution_count": 53,
   "metadata": {},
   "outputs": [
    {
     "name": "stdout",
     "output_type": "stream",
     "text": [
      "Accuracy: 0.7894\n",
      "Classification Report of Logistic Regression:\n",
      "               precision    recall  f1-score   support\n",
      "\n",
      "           0       0.75      0.93      0.83       841\n",
      "           1       0.87      0.62      0.72       664\n",
      "\n",
      "    accuracy                           0.79      1505\n",
      "   macro avg       0.81      0.77      0.78      1505\n",
      "weighted avg       0.80      0.79      0.78      1505\n",
      "\n",
      "Training Accuracy of Logistic Regression : 89.00\n",
      "Testing Accuracy  of Logistic Regression: 78.94\n"
     ]
    }
   ],
   "source": [
    "# Logistic Regression benchmark model\n",
    "log_r = LogisticRegression()\n",
    "log_r.fit(X_train_b,y_train_b)\n",
    "logr_y_pred_b = log_r.predict(X_test_b)\n",
    "accuracy = accuracy_score(y_test_b, logr_y_pred_b)\n",
    "print(f'Accuracy Base Logistic Regression: {accuracy:.4f}')\n",
    "print(\"Classification Report of Logistic Regression:\\n\", classification_report(y_test_b, logr_y_pred_b))\n",
    "\n",
    "# Hyperparameter tune the logistic regression model \n",
    "param_grid={'C':[0.001,0.01,0.1,1,10,100]}\n",
    "grid_search_lr = GridSearchCV(log_r, param_grid,cv=5,scoring='accuracy')\n",
    "grid_search_lr.fit(X_train_b,y_train_b)\n",
    "\n",
    "best_model_lr = grid_search_lr.best_estimator_\n",
    "y_train_pred_lr = best_model_lr.predict(X_train_b)\n",
    "trainning_accuracy_lr = accuracy_score(y_train_b, y_train_pred_lr)\n",
    "\n",
    "y_train_pred_lr = best_model_lr.predict(X_train_b)\n",
    "trainning_accuracy_lr = accuracy_score(y_train_b, y_train_pred_lr)\n",
    "\n",
    "y_test_pred_lr = best_model_lr.predict(X_test_b)\n",
    "testing_accuracy_lr = accuracy_score(y_test_b, y_test_pred_lr)\n",
    "\n",
    "print(f\"Training Accuracy Tuned Logistic Regression : {trainning_accuracy_lr * 100:.2f}\")\n",
    "print(f\"Testing Accuracy Tuned Logistic Regression: {testing_accuracy_lr * 100:.2f}\")"
   ]
  },
  {
   "cell_type": "markdown",
   "metadata": {},
   "source": [
    "The two benchmark models evaluated are Support Vector Classification (SVC) and Logistic Regression. The SVC model achieves a test accuracy of approximately 79.14%, with training accuracy of 98.02%. The Logistic Regression model shows a slightly lower test accuracy of 78.94% with a training accuracy of 89.00%. Overfitting is seen in both models."
   ]
  },
  {
   "cell_type": "markdown",
   "metadata": {},
   "source": [
    "# LSTM and GRU Model Architectures"
   ]
  },
  {
   "cell_type": "code",
   "execution_count": 81,
   "metadata": {},
   "outputs": [],
   "source": [
    "class LSTM(nn.Module):\n",
    "    def __init__(self, input_size, hidden_size, num_classes, dropout_prob=0.5):\n",
    "        super(LSTM, self).__init__()\n",
    "        self.hidden_size = hidden_size\n",
    "        self.input_size = input_size\n",
    "        self.num_classes = num_classes\n",
    "        self.linear_i = nn.Linear(self.input_size, self.hidden_size)  # Linear layers for updating hidden state\n",
    "        self.linear_h = nn.Linear(self.input_size, self.hidden_size)  # Linear layers for updating hidden state\n",
    "        self.linear_f = nn.Linear(self.input_size, self.hidden_size)  # Linear layers for updating hidden state\n",
    "        self.fc = nn.Linear(self.hidden_size, self.num_classes) # Fully connected layer for classification\n",
    "        \n",
    "    def forward(self, x):\n",
    "        f = torch.sigmoid(self.linear_f(x))\n",
    "        i = torch.sigmoid(self.linear_i(x))\n",
    "        tilde_h = self.linear_h(x)\n",
    "        f_prime = f / (f + i)\n",
    "        i_prime = i / (f + i)\n",
    "        h_prev = torch.zeros((x.shape[0], self.hidden_size))\n",
    "        \n",
    "        for i in range(x.shape[1]):\n",
    "            f_prime_t = f_prime[:, i, :]\n",
    "            i_prime_t = i_prime[:, i, :]\n",
    "            tilde_h_t = tilde_h[:, i, :]\n",
    "            h_prev = f_prime_t * h_prev + i_prime_t * tilde_h_t # Update hidden state with dropout\n",
    "        out = self.fc(h_prev)\n",
    "        return out"
   ]
  },
  {
   "cell_type": "markdown",
   "metadata": {},
   "source": [
    "This LSTM model is a custom implementation that modifies the typical architecture of an LSTM by incorporating specific linear transformations for input and forget gates. The model takes inputs and applies linear layers to transform these inputs into hidden states, followed by sigmoid activation to compute the forget and input gate values, which control the information flow. Finally, the hidden states are passed through a fully connected layer to produce the model's output for classification purposes, effectively making it suitable for handling time-series or sequential data."
   ]
  },
  {
   "cell_type": "code",
   "execution_count": 82,
   "metadata": {},
   "outputs": [],
   "source": [
    "class GRU(nn.Module):\n",
    "    def __init__(self, input_size, hidden_size, num_layers, num_classes):\n",
    "        super(GRU, self).__init__()\n",
    "        self.num_layers = num_layers\n",
    "        self.hidden_size = hidden_size\n",
    "        self.gru = nn.GRU(input_size, hidden_size,num_layers, dropout=0.2, batch_first = True)\n",
    "        self.fc = nn.Linear(hidden_size, num_classes)\n",
    "        \n",
    "    def forward(self, x):\n",
    "        h_0 = torch.zeros(self.num_layers, x.size(0), self.hidden_size)\n",
    "        out, _ = self.gru(x, h_0)\n",
    "        out = out[:,-1,:]\n",
    "        out = self.fc(out)\n",
    "        return out"
   ]
  },
  {
   "cell_type": "markdown",
   "metadata": {},
   "source": [
    "This GRU (Gated Recurrent Unit) model uses PyTorch's nn.GRU class for its core recurrent layer. The GRU layer is configured with a specific number of layers and a dropout rate to mitigate overfitting, processing the input sequences batch-wise. The output from the GRU layer is then fed into a fully connected linear layer that maps the hidden state to the desired number of output classes."
   ]
  },
  {
   "cell_type": "code",
   "execution_count": 83,
   "metadata": {},
   "outputs": [],
   "source": [
    "class EarlyStopping():\n",
    "    def __init__(self, patience):\n",
    "        super(EarlyStopping, self).__init__()\n",
    "        self.patience = patience\n",
    "        self.counter = 0\n",
    "        self.last_acc = float(\"-inf\")\n",
    "        \n",
    "    def to_stop(self, acc):\n",
    "        if acc < self.last_acc:\n",
    "            if self.patience == self.counter:\n",
    "                return True\n",
    "            self.counter += 1\n",
    "        else:\n",
    "            self.counter = 0\n",
    "        self.last_acc = acc\n",
    "        return False "
   ]
  },
  {
   "cell_type": "markdown",
   "metadata": {},
   "source": [
    "This Python class implements an early stopping mechanism to prevent overfitting. It is initialized with a 'patience' parameter, which specifies the number of epochs to continue training without improvement in accuracy before stopping. The to_stop method checks if the current accuracy (acc) is less than the last recorded accuracy; if it is, the counter is incremented and the method checks if it has reached the patience limit to decide whether to stop training. If the current accuracy improves, the counter is reset, encouraging continued training."
   ]
  },
  {
   "cell_type": "markdown",
   "metadata": {},
   "source": [
    "# Model Training & Results"
   ]
  },
  {
   "cell_type": "code",
   "execution_count": 84,
   "metadata": {},
   "outputs": [],
   "source": [
    "def category_from_output(output):\n",
    "    category_index = torch.argmax(output).item()\n",
    "    return category_index\n",
    "\n",
    "def evaluate_model(model, val_dataloader):\n",
    "    model.eval()\n",
    "    with torch.no_grad():\n",
    "        n_correct = 0\n",
    "        n_samples = 0\n",
    "        for batch_X, batch_Y in val_dataloader:   # Zero the gradients\n",
    "            outputs = model(batch_X)  \n",
    "            _, predictions = torch.max(outputs, 1)\n",
    "            n_samples  += batch_Y.shape[0]\n",
    "            n_correct += (predictions == batch_Y).sum().item()\n",
    "        acc = 100* n_correct / n_samples\n",
    "        print(f'accuracy ={acc:.4f}')\n",
    "    model.train()\n",
    "    return acc\n",
    "\n",
    "def train(model, epoch, early_stopping, optimizer, criterion):\n",
    "    to_stop = False\n",
    "    for epoch in range(num_epochs):\n",
    "        iteration = 0\n",
    "        n_correct = 0\n",
    "        n_samples = 0\n",
    "        for batch_X, batch_Y in train_dataloader: # Zero the gradients\n",
    "            optimizer.zero_grad()  # Forward pass\n",
    "            output = model(batch_X)  # Compute loss\n",
    "            loss = criterion(output, batch_Y)\n",
    "\n",
    "            _, predictions = torch.max(output, 1)\n",
    "            n_samples  += batch_Y.shape[0]\n",
    "            n_correct += (predictions == batch_Y).sum().item()\n",
    "            acc = 100 * n_correct / n_samples\n",
    "\n",
    "            loss.backward() # Backward pass\n",
    "            optimizer.step()\n",
    "            iteration += 1\n",
    "            if iteration%100==0:\n",
    "                eval_acc = evaluate_model(model, val_dataloader)\n",
    "                if early_stopping.to_stop(eval_acc):\n",
    "                    to_stop = True\n",
    "                    break\n",
    "                print(f'Training accuracy ={acc:.4f}, Eval accuracy = {eval_acc:.4f}, {early_stopping.counter}')\n",
    "                print(f'epoch: {epoch+1}, step {iteration+1}, loss = {loss.item():.4f}')"
   ]
  },
  {
   "cell_type": "markdown",
   "metadata": {},
   "source": [
    "The category_from_output function above extracts the category index from the model's output by identifying the maximum value's index, representing the predicted class. The evaluate_model function assesses the model's performance on the validation dataset by computing the accuracy as the percentage of correctly predicted instances and resets the model to training mode after evaluation. The train function orchestrates the training process over multiple epochs, handling forward and backward passes, loss computation, and updates to the model's weights through an optimizer; it also incorporates an early stopping mechanism that halts training if the validation accuracy does not improve over a specified number of iterations (patience parameter)."
   ]
  },
  {
   "cell_type": "code",
   "execution_count": 91,
   "metadata": {},
   "outputs": [
    {
     "name": "stdout",
     "output_type": "stream",
     "text": [
      "accuracy =50.3166\n",
      "Training accuracy =49.9800, Eval accuracy = 50.3166, 0\n",
      "epoch: 1, step 101, loss = 0.6875\n",
      "accuracy =50.3166\n",
      "Training accuracy =51.8400, Eval accuracy = 50.3166, 0\n",
      "epoch: 2, step 101, loss = 0.6946\n",
      "accuracy =51.5832\n",
      "Training accuracy =50.8000, Eval accuracy = 51.5832, 0\n",
      "epoch: 3, step 101, loss = 0.6854\n",
      "accuracy =51.9286\n",
      "Training accuracy =51.9200, Eval accuracy = 51.9286, 0\n",
      "epoch: 4, step 101, loss = 0.6844\n",
      "accuracy =52.1589\n",
      "Training accuracy =52.6000, Eval accuracy = 52.1589, 0\n",
      "epoch: 5, step 101, loss = 0.6716\n",
      "accuracy =53.5406\n",
      "Training accuracy =54.0000, Eval accuracy = 53.5406, 0\n",
      "epoch: 6, step 101, loss = 0.6797\n",
      "accuracy =53.5982\n",
      "Training accuracy =54.8600, Eval accuracy = 53.5982, 0\n",
      "epoch: 7, step 101, loss = 0.6665\n",
      "accuracy =70.5239\n",
      "Training accuracy =61.6200, Eval accuracy = 70.5239, 0\n",
      "epoch: 8, step 101, loss = 0.6661\n",
      "accuracy =76.1658\n",
      "Training accuracy =73.8000, Eval accuracy = 76.1658, 0\n",
      "epoch: 9, step 101, loss = 0.5458\n",
      "accuracy =78.1232\n",
      "Training accuracy =77.5400, Eval accuracy = 78.1232, 0\n",
      "epoch: 10, step 101, loss = 0.4717\n",
      "accuracy =79.7352\n",
      "Training accuracy =79.2600, Eval accuracy = 79.7352, 0\n",
      "epoch: 11, step 101, loss = 0.4754\n",
      "accuracy =81.2896\n",
      "Training accuracy =81.1400, Eval accuracy = 81.2896, 0\n",
      "epoch: 12, step 101, loss = 0.5267\n",
      "accuracy =81.1744\n",
      "Training accuracy =81.9200, Eval accuracy = 81.1744, 1\n",
      "epoch: 13, step 101, loss = 0.3959\n",
      "accuracy =80.8290\n",
      "Training accuracy =82.3200, Eval accuracy = 80.8290, 2\n",
      "epoch: 14, step 101, loss = 0.4141\n",
      "accuracy =81.0593\n",
      "Training accuracy =82.9200, Eval accuracy = 81.0593, 0\n",
      "epoch: 15, step 101, loss = 0.3082\n",
      "accuracy =82.4410\n",
      "Training accuracy =84.4400, Eval accuracy = 82.4410, 0\n",
      "epoch: 16, step 101, loss = 0.3810\n",
      "accuracy =82.4410\n",
      "Training accuracy =84.6200, Eval accuracy = 82.4410, 0\n",
      "epoch: 17, step 101, loss = 0.3037\n",
      "accuracy =81.8077\n",
      "Training accuracy =85.8200, Eval accuracy = 81.8077, 1\n",
      "epoch: 18, step 101, loss = 0.3302\n",
      "accuracy =82.0956\n",
      "Training accuracy =85.7400, Eval accuracy = 82.0956, 0\n",
      "epoch: 19, step 101, loss = 0.3731\n",
      "accuracy =82.6137\n",
      "Training accuracy =86.9000, Eval accuracy = 82.6137, 0\n",
      "epoch: 20, step 101, loss = 0.2725\n",
      "accuracy =82.7288\n",
      "Training accuracy =86.9400, Eval accuracy = 82.7288, 0\n",
      "epoch: 21, step 101, loss = 0.3110\n",
      "accuracy =82.9016\n",
      "Training accuracy =87.3800, Eval accuracy = 82.9016, 0\n",
      "epoch: 22, step 101, loss = 0.2823\n",
      "accuracy =83.2470\n",
      "Training accuracy =87.5400, Eval accuracy = 83.2470, 0\n",
      "epoch: 23, step 101, loss = 0.3600\n",
      "accuracy =83.1318\n",
      "Training accuracy =88.9800, Eval accuracy = 83.1318, 1\n",
      "epoch: 24, step 101, loss = 0.1885\n",
      "accuracy =83.0743\n",
      "Training accuracy =89.0600, Eval accuracy = 83.0743, 2\n",
      "epoch: 25, step 101, loss = 0.2058\n",
      "accuracy =83.8227\n",
      "Training accuracy =89.5400, Eval accuracy = 83.8227, 0\n",
      "epoch: 26, step 101, loss = 0.2663\n",
      "accuracy =83.8227\n",
      "Training accuracy =90.4000, Eval accuracy = 83.8227, 0\n",
      "epoch: 27, step 101, loss = 0.1815\n",
      "accuracy =83.7075\n",
      "Training accuracy =90.2600, Eval accuracy = 83.7075, 1\n",
      "epoch: 28, step 101, loss = 0.2188\n",
      "accuracy =83.8803\n",
      "Training accuracy =90.5000, Eval accuracy = 83.8803, 0\n",
      "epoch: 29, step 101, loss = 0.1630\n",
      "accuracy =84.1681\n",
      "Training accuracy =91.1200, Eval accuracy = 84.1681, 0\n",
      "epoch: 30, step 101, loss = 0.2053\n",
      "accuracy =84.2832\n",
      "Training accuracy =91.5200, Eval accuracy = 84.2832, 0\n",
      "epoch: 31, step 101, loss = 0.1164\n",
      "accuracy =83.9954\n",
      "Training accuracy =92.1000, Eval accuracy = 83.9954, 1\n",
      "epoch: 32, step 101, loss = 0.1728\n",
      "accuracy =84.4560\n",
      "Training accuracy =92.5600, Eval accuracy = 84.4560, 0\n",
      "epoch: 33, step 101, loss = 0.2277\n",
      "accuracy =84.8590\n",
      "Training accuracy =92.6000, Eval accuracy = 84.8590, 0\n",
      "epoch: 34, step 101, loss = 0.1276\n",
      "accuracy =84.4560\n",
      "Training accuracy =92.6200, Eval accuracy = 84.4560, 1\n",
      "epoch: 35, step 101, loss = 0.2626\n",
      "accuracy =84.4560\n",
      "Training accuracy =92.5400, Eval accuracy = 84.4560, 0\n",
      "epoch: 36, step 101, loss = 0.0884\n",
      "accuracy =84.5711\n",
      "Training accuracy =93.2800, Eval accuracy = 84.5711, 0\n",
      "epoch: 37, step 101, loss = 0.2347\n",
      "accuracy =84.8014\n",
      "Training accuracy =94.1000, Eval accuracy = 84.8014, 0\n",
      "epoch: 38, step 101, loss = 0.2863\n",
      "accuracy =85.0892\n",
      "Training accuracy =94.3800, Eval accuracy = 85.0892, 0\n",
      "epoch: 39, step 101, loss = 0.0955\n",
      "accuracy =84.8590\n",
      "Training accuracy =94.2000, Eval accuracy = 84.8590, 1\n",
      "epoch: 40, step 101, loss = 0.1120\n"
     ]
    }
   ],
   "source": [
    "# First Model - LSTM\n",
    "input_size = 300 # feed RNN one row at a time \n",
    "hidden_dims = 200\n",
    "\n",
    "n_categories = 2\n",
    "num_epochs = 40\n",
    "learning_rate = 0.001\n",
    "all_losses = []\n",
    "\n",
    "model = LSTM(input_size, hidden_dims, n_categories)\n",
    "early_stopping = EarlyStopping(2)\n",
    "\n",
    "criterion = nn.CrossEntropyLoss()\n",
    "optimizer = torch.optim.AdamW(model.parameters(), lr=learning_rate)\n",
    "train(model, num_epochs, early_stopping, optimizer, criterion)"
   ]
  },
  {
   "cell_type": "code",
   "execution_count": 92,
   "metadata": {},
   "outputs": [
    {
     "name": "stdout",
     "output_type": "stream",
     "text": [
      "accuracy =78.2959\n",
      "Training accuracy =68.5400, Eval accuracy = 78.2959, 0\n",
      "epoch: 1, step 101, loss = 0.5656\n",
      "accuracy =81.1744\n",
      "Training accuracy =81.1400, Eval accuracy = 81.1744, 0\n",
      "epoch: 2, step 101, loss = 0.4203\n",
      "accuracy =82.2683\n",
      "Training accuracy =83.3400, Eval accuracy = 82.2683, 0\n",
      "epoch: 3, step 101, loss = 0.4983\n",
      "accuracy =83.7651\n",
      "Training accuracy =85.4600, Eval accuracy = 83.7651, 0\n",
      "epoch: 4, step 101, loss = 0.3890\n",
      "accuracy =83.3621\n",
      "Training accuracy =87.3000, Eval accuracy = 83.3621, 1\n",
      "epoch: 5, step 101, loss = 0.1587\n",
      "accuracy =83.8803\n",
      "Training accuracy =89.4200, Eval accuracy = 83.8803, 0\n",
      "epoch: 6, step 101, loss = 0.2241\n",
      "accuracy =84.1681\n",
      "Training accuracy =91.3800, Eval accuracy = 84.1681, 0\n",
      "epoch: 7, step 101, loss = 0.1779\n",
      "accuracy =84.7438\n",
      "Training accuracy =92.5000, Eval accuracy = 84.7438, 0\n",
      "epoch: 8, step 101, loss = 0.2655\n",
      "accuracy =86.0679\n",
      "Training accuracy =93.5400, Eval accuracy = 86.0679, 0\n",
      "epoch: 9, step 101, loss = 0.0915\n",
      "accuracy =86.4134\n",
      "Training accuracy =95.0600, Eval accuracy = 86.4134, 0\n",
      "epoch: 10, step 101, loss = 0.2095\n"
     ]
    }
   ],
   "source": [
    "# Second Model - GRU\n",
    "num_epochs = 10\n",
    "early_stopping = EarlyStopping(2)\n",
    "n_hidden =2\n",
    "model1 = GRU(input_size, hidden_dims, n_hidden, n_categories)\n",
    "criterion = nn.CrossEntropyLoss()\n",
    "optimizer = torch.optim.AdamW(model1.parameters(), lr=learning_rate)\n",
    "train(model1, num_epochs, early_stopping, optimizer, criterion)"
   ]
  },
  {
   "cell_type": "code",
   "execution_count": 96,
   "metadata": {},
   "outputs": [
    {
     "name": "stdout",
     "output_type": "stream",
     "text": [
      "accuracy =84.9165\n",
      "LSTM eval accuracy: 84.9165\n",
      "accuracy =87.5072\n",
      "GRU eval accuracy: 87.5072\n"
     ]
    }
   ],
   "source": [
    "# Evaluate Both Models\n",
    "eval_acc = evaluate_model(model, val_dataloader)\n",
    "print(f'LSTM eval accuracy: {eval_acc:.4f}')\n",
    "\n",
    "eval_acc = evaluate_model(model1, val_dataloader)\n",
    "print(f'GRU eval accuracy: {eval_acc:.4f}')"
   ]
  },
  {
   "cell_type": "code",
   "execution_count": 94,
   "metadata": {},
   "outputs": [],
   "source": [
    "with torch.no_grad():\n",
    "    outputs = model1(X_test_tensor)\n",
    "    _, predictions = torch.max(outputs, 1)\n",
    "submission = pd.DataFrame({'id': test_data['id'], 'target': predictions})\n"
   ]
  },
  {
   "cell_type": "markdown",
   "metadata": {},
   "source": [
    "# Conclusion"
   ]
  },
  {
   "cell_type": "code",
   "execution_count": 99,
   "metadata": {},
   "outputs": [
    {
     "data": {
      "image/png": "[encoded data removed]",
      "text/plain": [
       "<Figure size 1000x500 with 1 Axes>"
      ]
     },
     "metadata": {},
     "output_type": "display_data"
    }
   ],
   "source": [
    "#dataframe of testing accruacy results\n",
    "data = {\n",
    "    'Model': ['GRU', 'LSTM', 'SVC', 'Logistic Regression'],\n",
    "    'Accuracy': [87.5072, 84.9165, 79.14, 78.94]\n",
    "}\n",
    "\n",
    "# Convert the dictionary to a DataFrame\n",
    "df_results = pd.DataFrame(data)\n",
    "\n",
    "import matplotlib.pyplot as plt\n",
    "\n",
    "# Set the style (optional)\n",
    "plt.style.use('ggplot')\n",
    "\n",
    "# Create a bar chart\n",
    "plt.figure(figsize=(10, 5))\n",
    "plt.bar(df_results['Model'], df_results['Accuracy'], color='blue')\n",
    "\n",
    "# Adding titles and labels\n",
    "plt.title('Testing Accuracy of Different Models')\n",
    "plt.xlabel('Model')\n",
    "plt.ylabel('Accuracy (%)')\n",
    "\n",
    "# Display the plot\n",
    "plt.show()"
   ]
  },
  {
   "cell_type": "markdown",
   "metadata": {},
   "source": [
    "The GRU model outperformed the other models in terms of accuracy, with an accuracy of 87.5%. The LSTM model also performed well, with an accuracy of 84.9%. The benchmark models, SVC and Logistic Regression, had accuracies of 79.1% and 78.9%, respectively. The bar chart above shows the testing accuracy of the different models. \n",
    "\n",
    "Future work would include fine tuning the GRU model in general and to be able to handle larger batch sizes and thereby increase GPU utilization, which could increase accuracy further."
   ]
  }
 ],
 "metadata": {
  "kernelspec": {
   "display_name": "deeponto",
   "language": "python",
   "name": "python3"
  },
  "language_info": {
   "codemirror_mode": {
    "name": "ipython",
    "version": 3
   },
   "file_extension": ".py",
   "mimetype": "text/x-python",
   "name": "python",
   "nbconvert_exporter": "python",
   "pygments_lexer": "ipython3",
   "version": "3.10.15"
  }
 },
 "nbformat": 4,
 "nbformat_minor": 2
}
